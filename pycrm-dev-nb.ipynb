{
 "cells": [
  {
   "cell_type": "code",
   "execution_count": 1,
   "metadata": {},
   "outputs": [],
   "source": [
    "import pandas as pd\n",
    "import matplotlib.pyplot as plt\n",
    "import numpy as np\n",
    "\n",
    "import pycrm\n",
    "\n",
    "%matplotlib inline"
   ]
  },
  {
   "cell_type": "code",
   "execution_count": 2,
   "metadata": {},
   "outputs": [],
   "source": [
    "df_cdnow = pycrm.datasets.load_cdnow_dataset()"
   ]
  },
  {
   "cell_type": "code",
   "execution_count": 3,
   "metadata": {},
   "outputs": [
    {
     "data": {
      "text/html": [
       "<div>\n",
       "<style scoped>\n",
       "    .dataframe tbody tr th:only-of-type {\n",
       "        vertical-align: middle;\n",
       "    }\n",
       "\n",
       "    .dataframe tbody tr th {\n",
       "        vertical-align: top;\n",
       "    }\n",
       "\n",
       "    .dataframe thead th {\n",
       "        text-align: right;\n",
       "    }\n",
       "</style>\n",
       "<table border=\"1\" class=\"dataframe\">\n",
       "  <thead>\n",
       "    <tr style=\"text-align: right;\">\n",
       "      <th></th>\n",
       "      <th>customer_id</th>\n",
       "      <th>order_date</th>\n",
       "      <th>n_items</th>\n",
       "      <th>order_value</th>\n",
       "    </tr>\n",
       "  </thead>\n",
       "  <tbody>\n",
       "    <tr>\n",
       "      <th>0</th>\n",
       "      <td>1</td>\n",
       "      <td>1997-01-01</td>\n",
       "      <td>1</td>\n",
       "      <td>11.77</td>\n",
       "    </tr>\n",
       "    <tr>\n",
       "      <th>1</th>\n",
       "      <td>2</td>\n",
       "      <td>1997-01-12</td>\n",
       "      <td>1</td>\n",
       "      <td>12.00</td>\n",
       "    </tr>\n",
       "    <tr>\n",
       "      <th>2</th>\n",
       "      <td>2</td>\n",
       "      <td>1997-01-12</td>\n",
       "      <td>5</td>\n",
       "      <td>77.00</td>\n",
       "    </tr>\n",
       "    <tr>\n",
       "      <th>3</th>\n",
       "      <td>3</td>\n",
       "      <td>1997-01-02</td>\n",
       "      <td>2</td>\n",
       "      <td>20.76</td>\n",
       "    </tr>\n",
       "    <tr>\n",
       "      <th>4</th>\n",
       "      <td>3</td>\n",
       "      <td>1997-03-30</td>\n",
       "      <td>2</td>\n",
       "      <td>20.76</td>\n",
       "    </tr>\n",
       "  </tbody>\n",
       "</table>\n",
       "</div>"
      ],
      "text/plain": [
       "   customer_id order_date  n_items  order_value\n",
       "0            1 1997-01-01        1        11.77\n",
       "1            2 1997-01-12        1        12.00\n",
       "2            2 1997-01-12        5        77.00\n",
       "3            3 1997-01-02        2        20.76\n",
       "4            3 1997-03-30        2        20.76"
      ]
     },
     "execution_count": 3,
     "metadata": {},
     "output_type": "execute_result"
    }
   ],
   "source": [
    "df_cdnow.head()"
   ]
  },
  {
   "cell_type": "code",
   "execution_count": 4,
   "metadata": {},
   "outputs": [],
   "source": [
    "df_cdnow_agg = pycrm.aggregate_transactions_time(df_cdnow,  aggregation=\"revenue\", freq=\"Y\", full_intervals_only=False)"
   ]
  },
  {
   "cell_type": "code",
   "execution_count": 5,
   "metadata": {},
   "outputs": [
    {
     "data": {
      "text/plain": [
       "<matplotlib.axes._subplots.AxesSubplot at 0x7f83fd111b38>"
      ]
     },
     "execution_count": 5,
     "metadata": {},
     "output_type": "execute_result"
    },
    {
     "data": {
      "image/png": "[encoded data removed]",
      "text/plain": [
       "<Figure size 432x288 with 1 Axes>"
      ]
     },
     "metadata": {
      "needs_background": "light"
     },
     "output_type": "display_data"
    }
   ],
   "source": [
    "pycrm.plotting.plot_transaction_timeseries(df_cdnow_agg, plot_growth_line=True, label_values=True, f_mlt=1/1e3, f_pref=\"US$ \", f_suff=\"k\", f_fmt=\".2f\")"
   ]
  },
  {
   "cell_type": "code",
   "execution_count": 6,
   "metadata": {},
   "outputs": [
    {
     "data": {
      "text/html": [
       "<div>\n",
       "<style scoped>\n",
       "    .dataframe tbody tr th:only-of-type {\n",
       "        vertical-align: middle;\n",
       "    }\n",
       "\n",
       "    .dataframe tbody tr th {\n",
       "        vertical-align: top;\n",
       "    }\n",
       "\n",
       "    .dataframe thead th {\n",
       "        text-align: right;\n",
       "    }\n",
       "</style>\n",
       "<table border=\"1\" class=\"dataframe\">\n",
       "  <thead>\n",
       "    <tr style=\"text-align: right;\">\n",
       "      <th></th>\n",
       "      <th>revenue</th>\n",
       "    </tr>\n",
       "    <tr>\n",
       "      <th>order_date</th>\n",
       "      <th></th>\n",
       "    </tr>\n",
       "  </thead>\n",
       "  <tbody>\n",
       "    <tr>\n",
       "      <th>1997-12-31</th>\n",
       "      <td>2024161.26</td>\n",
       "    </tr>\n",
       "    <tr>\n",
       "      <th>1998-12-31</th>\n",
       "      <td>476154.37</td>\n",
       "    </tr>\n",
       "  </tbody>\n",
       "</table>\n",
       "</div>"
      ],
      "text/plain": [
       "               revenue\n",
       "order_date            \n",
       "1997-12-31  2024161.26\n",
       "1998-12-31   476154.37"
      ]
     },
     "execution_count": 6,
     "metadata": {},
     "output_type": "execute_result"
    }
   ],
   "source": [
    "df_cdnow_agg"
   ]
  },
  {
   "cell_type": "code",
   "execution_count": 17,
   "metadata": {},
   "outputs": [
    {
     "data": {
      "text/plain": [
       "'Python              : Very Good           '"
      ]
     },
     "execution_count": 17,
     "metadata": {},
     "output_type": "execute_result"
    }
   ],
   "source": [
    "lang = 'Python'\n",
    "adj = 'Very Good'\n",
    "width = \"<20\"\n",
    "f'{lang:{width}}: {adj:{width}}'\n",
    "# Out[582]: '              Python:            Very Good'"
   ]
  },
  {
   "cell_type": "code",
   "execution_count": 46,
   "metadata": {},
   "outputs": [],
   "source": [
    "v = 251246134 \n",
    "\n",
    "f_mlt = 1/1e6\n",
    "f_fmt = f\".0f\"\n",
    "f_pref = \"R$ \"\n",
    "f_suff = \"M\""
   ]
  },
  {
   "cell_type": "code",
   "execution_count": 47,
   "metadata": {},
   "outputs": [
    {
     "data": {
      "text/plain": [
       "'R$ 251M'"
      ]
     },
     "execution_count": 47,
     "metadata": {},
     "output_type": "execute_result"
    }
   ],
   "source": [
    "f\"{pref}{v:{fmt}}{suff}\""
   ]
  },
  {
   "cell_type": "code",
   "execution_count": null,
   "metadata": {},
   "outputs": [],
   "source": []
  },
  {
   "cell_type": "code",
   "execution_count": 18,
   "metadata": {},
   "outputs": [
    {
     "data": {
      "text/plain": [
       "<matplotlib.axes._subplots.AxesSubplot at 0x7f1e688b6a20>"
      ]
     },
     "execution_count": 18,
     "metadata": {},
     "output_type": "execute_result"
    },
    {
     "data": {
      "image/png": "[encoded data removed]",
      "text/plain": [
       "<Figure size 1008x216 with 1 Axes>"
      ]
     },
     "metadata": {
      "needs_background": "light"
     },
     "output_type": "display_data"
    }
   ],
   "source": [
    "df_cdnow_agg.plot(kind=\"line\", figsize=(14,3))"
   ]
  },
  {
   "cell_type": "code",
   "execution_count": 87,
   "metadata": {},
   "outputs": [],
   "source": [
    "def plot_transaction_timeseries(transaction_series, reg=False, **kwargs):\n",
    "       \n",
    "    # input validation \n",
    "    if isinstance(transaction_series, pd.DataFrame):\n",
    "        assert transaction_series.shape[1] == 1, \"only single column pandas.DataFrame supported\"\n",
    "        transaction_series = transaction_series.copy()\n",
    "    elif isinstance(transaction_series, pd.Series):\n",
    "        transaction_series = transaction_series.copy().to_frame()\n",
    "    else:\n",
    "        raise TypeError(f\"invalid transaction_series input: {type(transaction_series)} - pandas.Series or single column pandas.DataFrame supported only\")\n",
    "    assert isinstance(transaction_series.index, pd.DatetimeIndex), \"index not of pandas.DatetimeIndex type\"\n",
    "    \n",
    "    rolling_window = kwargs.get(\"rolling_window\", 1)\n",
    "    assert rolling_window > 0, \"window must be positive\"\n",
    "    assert isinstance(rolling_window, int), \"window must be an integer\"  \n",
    "    \n",
    "    # creating figure    \n",
    "    ax = kwargs.get(\"ax\")\n",
    "    if not ax:\n",
    "        fig, ax = plt.subplots(figsize=kwargs.get(\"figsize\", (18,4)))\n",
    "        \n",
    "    # plotting series\n",
    "    (transaction_series.iloc[:, 0]).rolling(rolling_window).mean().plot(ax=ax, label=kwargs.get(\"label\"))\n",
    "    \n",
    "    # perform (and plot) single linear regression on series\n",
    "    # WARNING: simplistic treatment of timeseries data - should not be used in serious analysis\n",
    "    if reg:\n",
    "        f = np.poly1d(np.polyfit(range(transaction_series.shape[0]), (transaction_series.iloc[:, 0]).values, 1)) \n",
    "        transaction_series[\"fitted_line\"] = f(np.arange(transaction_series.shape[0]))\n",
    "        transaction_series[\"fitted_line\"].plot(ax=ax, lw=2, ls='--', alpha=.5, label=\"Eq_normal: \" + f\"{f}\".strip())\n",
    "    \n",
    "    # plot details shortcut\n",
    "    if kwargs.get(\"legend\", False):\n",
    "        ax.legend()\n",
    "    ax.set_title(kwargs.get(\"title\", f\"{transaction_series.columns[0].upper()}\"), size=kwargs.get(\"title_size\", 14))\n",
    "    ax.set_xlabel(kwargs.get(\"xlabel\", \"\"))\n",
    "    ax.set_ylabel(kwargs.get(\"ylabel\", \"\"))\n",
    "    if \"xlim\" in kwargs:\n",
    "        ax.set_xlim(kwargs.get(\"xlim\"))\n",
    "    if \"ylim\" in kwargs:\n",
    "        ax.set_ylim(kwargs.get(\"ylim\"))\n",
    "\n",
    "    return ax\n",
    "    "
   ]
  },
  {
   "cell_type": "code",
   "execution_count": 90,
   "metadata": {},
   "outputs": [
    {
     "data": {
      "text/plain": [
       "<matplotlib.axes._subplots.AxesSubplot at 0x7f73c4946a58>"
      ]
     },
     "execution_count": 90,
     "metadata": {},
     "output_type": "execute_result"
    },
    {
     "data": {
      "image/png": "[encoded data removed]",
      "text/plain": [
       "<Figure size 1296x288 with 1 Axes>"
      ]
     },
     "metadata": {
      "needs_background": "light"
     },
     "output_type": "display_data"
    }
   ],
   "source": [
    "plot_transaction_timeseries(df_cdnow_agg, legend=True, rolling_window=4)"
   ]
  },
  {
   "cell_type": "code",
   "execution_count": 22,
   "metadata": {},
   "outputs": [
    {
     "data": {
      "text/plain": [
       "True"
      ]
     },
     "execution_count": 22,
     "metadata": {},
     "output_type": "execute_result"
    }
   ],
   "source": [
    "isinstance(df_cdnow_agg, pd.DataFrame)"
   ]
  },
  {
   "cell_type": "code",
   "execution_count": 30,
   "metadata": {},
   "outputs": [
    {
     "data": {
      "text/plain": [
       "True"
      ]
     },
     "execution_count": 30,
     "metadata": {},
     "output_type": "execute_result"
    }
   ],
   "source": [
    "isinstance(df_cdnow_agg[\"basket_size\"].index, pd.DatetimeIndex)"
   ]
  },
  {
   "cell_type": "code",
   "execution_count": 32,
   "metadata": {},
   "outputs": [
    {
     "data": {
      "text/html": [
       "<div>\n",
       "<style scoped>\n",
       "    .dataframe tbody tr th:only-of-type {\n",
       "        vertical-align: middle;\n",
       "    }\n",
       "\n",
       "    .dataframe tbody tr th {\n",
       "        vertical-align: top;\n",
       "    }\n",
       "\n",
       "    .dataframe thead th {\n",
       "        text-align: right;\n",
       "    }\n",
       "</style>\n",
       "<table border=\"1\" class=\"dataframe\">\n",
       "  <thead>\n",
       "    <tr style=\"text-align: right;\">\n",
       "      <th></th>\n",
       "      <th>basket_size</th>\n",
       "    </tr>\n",
       "    <tr>\n",
       "      <th>order_date</th>\n",
       "      <th></th>\n",
       "    </tr>\n",
       "  </thead>\n",
       "  <tbody>\n",
       "    <tr>\n",
       "      <th>1997-01-12</th>\n",
       "      <td>2.182121</td>\n",
       "    </tr>\n",
       "    <tr>\n",
       "      <th>1997-01-19</th>\n",
       "      <td>2.113602</td>\n",
       "    </tr>\n",
       "    <tr>\n",
       "      <th>1997-01-26</th>\n",
       "      <td>2.190138</td>\n",
       "    </tr>\n",
       "    <tr>\n",
       "      <th>1997-02-02</th>\n",
       "      <td>2.213147</td>\n",
       "    </tr>\n",
       "    <tr>\n",
       "      <th>1997-02-09</th>\n",
       "      <td>2.208033</td>\n",
       "    </tr>\n",
       "    <tr>\n",
       "      <th>1997-02-16</th>\n",
       "      <td>2.255172</td>\n",
       "    </tr>\n",
       "    <tr>\n",
       "      <th>1997-02-23</th>\n",
       "      <td>2.142545</td>\n",
       "    </tr>\n",
       "    <tr>\n",
       "      <th>1997-03-02</th>\n",
       "      <td>2.220617</td>\n",
       "    </tr>\n",
       "    <tr>\n",
       "      <th>1997-03-09</th>\n",
       "      <td>2.154365</td>\n",
       "    </tr>\n",
       "    <tr>\n",
       "      <th>1997-03-16</th>\n",
       "      <td>2.173027</td>\n",
       "    </tr>\n",
       "    <tr>\n",
       "      <th>1997-03-23</th>\n",
       "      <td>2.378747</td>\n",
       "    </tr>\n",
       "    <tr>\n",
       "      <th>1997-03-30</th>\n",
       "      <td>2.409030</td>\n",
       "    </tr>\n",
       "    <tr>\n",
       "      <th>1997-04-06</th>\n",
       "      <td>2.542828</td>\n",
       "    </tr>\n",
       "    <tr>\n",
       "      <th>1997-04-13</th>\n",
       "      <td>2.487368</td>\n",
       "    </tr>\n",
       "    <tr>\n",
       "      <th>1997-04-20</th>\n",
       "      <td>2.624009</td>\n",
       "    </tr>\n",
       "    <tr>\n",
       "      <th>1997-04-27</th>\n",
       "      <td>2.561783</td>\n",
       "    </tr>\n",
       "    <tr>\n",
       "      <th>1997-05-04</th>\n",
       "      <td>2.536193</td>\n",
       "    </tr>\n",
       "    <tr>\n",
       "      <th>1997-05-11</th>\n",
       "      <td>2.671642</td>\n",
       "    </tr>\n",
       "    <tr>\n",
       "      <th>1997-05-18</th>\n",
       "      <td>2.481793</td>\n",
       "    </tr>\n",
       "    <tr>\n",
       "      <th>1997-05-25</th>\n",
       "      <td>2.526936</td>\n",
       "    </tr>\n",
       "    <tr>\n",
       "      <th>1997-06-01</th>\n",
       "      <td>2.456311</td>\n",
       "    </tr>\n",
       "    <tr>\n",
       "      <th>1997-06-08</th>\n",
       "      <td>2.501724</td>\n",
       "    </tr>\n",
       "    <tr>\n",
       "      <th>1997-06-15</th>\n",
       "      <td>2.650685</td>\n",
       "    </tr>\n",
       "    <tr>\n",
       "      <th>1997-06-22</th>\n",
       "      <td>2.311741</td>\n",
       "    </tr>\n",
       "    <tr>\n",
       "      <th>1997-06-29</th>\n",
       "      <td>2.191693</td>\n",
       "    </tr>\n",
       "    <tr>\n",
       "      <th>1997-07-06</th>\n",
       "      <td>2.484099</td>\n",
       "    </tr>\n",
       "    <tr>\n",
       "      <th>1997-07-13</th>\n",
       "      <td>2.478846</td>\n",
       "    </tr>\n",
       "    <tr>\n",
       "      <th>1997-07-20</th>\n",
       "      <td>2.460744</td>\n",
       "    </tr>\n",
       "    <tr>\n",
       "      <th>1997-07-27</th>\n",
       "      <td>3.103409</td>\n",
       "    </tr>\n",
       "    <tr>\n",
       "      <th>1997-08-03</th>\n",
       "      <td>2.964892</td>\n",
       "    </tr>\n",
       "    <tr>\n",
       "      <th>...</th>\n",
       "      <td>...</td>\n",
       "    </tr>\n",
       "    <tr>\n",
       "      <th>1997-12-07</th>\n",
       "      <td>2.720290</td>\n",
       "    </tr>\n",
       "    <tr>\n",
       "      <th>1997-12-14</th>\n",
       "      <td>2.788952</td>\n",
       "    </tr>\n",
       "    <tr>\n",
       "      <th>1997-12-21</th>\n",
       "      <td>2.409594</td>\n",
       "    </tr>\n",
       "    <tr>\n",
       "      <th>1997-12-28</th>\n",
       "      <td>2.262755</td>\n",
       "    </tr>\n",
       "    <tr>\n",
       "      <th>1998-01-04</th>\n",
       "      <td>2.505721</td>\n",
       "    </tr>\n",
       "    <tr>\n",
       "      <th>1998-01-11</th>\n",
       "      <td>2.464516</td>\n",
       "    </tr>\n",
       "    <tr>\n",
       "      <th>1998-01-18</th>\n",
       "      <td>2.639485</td>\n",
       "    </tr>\n",
       "    <tr>\n",
       "      <th>1998-01-25</th>\n",
       "      <td>2.617450</td>\n",
       "    </tr>\n",
       "    <tr>\n",
       "      <th>1998-02-01</th>\n",
       "      <td>2.632035</td>\n",
       "    </tr>\n",
       "    <tr>\n",
       "      <th>1998-02-08</th>\n",
       "      <td>2.571429</td>\n",
       "    </tr>\n",
       "    <tr>\n",
       "      <th>1998-02-15</th>\n",
       "      <td>2.600868</td>\n",
       "    </tr>\n",
       "    <tr>\n",
       "      <th>1998-02-22</th>\n",
       "      <td>2.647948</td>\n",
       "    </tr>\n",
       "    <tr>\n",
       "      <th>1998-03-01</th>\n",
       "      <td>2.695788</td>\n",
       "    </tr>\n",
       "    <tr>\n",
       "      <th>1998-03-08</th>\n",
       "      <td>2.699700</td>\n",
       "    </tr>\n",
       "    <tr>\n",
       "      <th>1998-03-15</th>\n",
       "      <td>2.756944</td>\n",
       "    </tr>\n",
       "    <tr>\n",
       "      <th>1998-03-22</th>\n",
       "      <td>2.607872</td>\n",
       "    </tr>\n",
       "    <tr>\n",
       "      <th>1998-03-29</th>\n",
       "      <td>2.564465</td>\n",
       "    </tr>\n",
       "    <tr>\n",
       "      <th>1998-04-05</th>\n",
       "      <td>2.501099</td>\n",
       "    </tr>\n",
       "    <tr>\n",
       "      <th>1998-04-12</th>\n",
       "      <td>2.525799</td>\n",
       "    </tr>\n",
       "    <tr>\n",
       "      <th>1998-04-19</th>\n",
       "      <td>2.442348</td>\n",
       "    </tr>\n",
       "    <tr>\n",
       "      <th>1998-04-26</th>\n",
       "      <td>2.634518</td>\n",
       "    </tr>\n",
       "    <tr>\n",
       "      <th>1998-05-03</th>\n",
       "      <td>2.462451</td>\n",
       "    </tr>\n",
       "    <tr>\n",
       "      <th>1998-05-10</th>\n",
       "      <td>2.767263</td>\n",
       "    </tr>\n",
       "    <tr>\n",
       "      <th>1998-05-17</th>\n",
       "      <td>2.454945</td>\n",
       "    </tr>\n",
       "    <tr>\n",
       "      <th>1998-05-24</th>\n",
       "      <td>2.265086</td>\n",
       "    </tr>\n",
       "    <tr>\n",
       "      <th>1998-05-31</th>\n",
       "      <td>2.457330</td>\n",
       "    </tr>\n",
       "    <tr>\n",
       "      <th>1998-06-07</th>\n",
       "      <td>2.627993</td>\n",
       "    </tr>\n",
       "    <tr>\n",
       "      <th>1998-06-14</th>\n",
       "      <td>2.765766</td>\n",
       "    </tr>\n",
       "    <tr>\n",
       "      <th>1998-06-21</th>\n",
       "      <td>2.495495</td>\n",
       "    </tr>\n",
       "    <tr>\n",
       "      <th>1998-06-28</th>\n",
       "      <td>2.425197</td>\n",
       "    </tr>\n",
       "  </tbody>\n",
       "</table>\n",
       "<p>77 rows × 1 columns</p>\n",
       "</div>"
      ],
      "text/plain": [
       "            basket_size\n",
       "order_date             \n",
       "1997-01-12     2.182121\n",
       "1997-01-19     2.113602\n",
       "1997-01-26     2.190138\n",
       "1997-02-02     2.213147\n",
       "1997-02-09     2.208033\n",
       "1997-02-16     2.255172\n",
       "1997-02-23     2.142545\n",
       "1997-03-02     2.220617\n",
       "1997-03-09     2.154365\n",
       "1997-03-16     2.173027\n",
       "1997-03-23     2.378747\n",
       "1997-03-30     2.409030\n",
       "1997-04-06     2.542828\n",
       "1997-04-13     2.487368\n",
       "1997-04-20     2.624009\n",
       "1997-04-27     2.561783\n",
       "1997-05-04     2.536193\n",
       "1997-05-11     2.671642\n",
       "1997-05-18     2.481793\n",
       "1997-05-25     2.526936\n",
       "1997-06-01     2.456311\n",
       "1997-06-08     2.501724\n",
       "1997-06-15     2.650685\n",
       "1997-06-22     2.311741\n",
       "1997-06-29     2.191693\n",
       "1997-07-06     2.484099\n",
       "1997-07-13     2.478846\n",
       "1997-07-20     2.460744\n",
       "1997-07-27     3.103409\n",
       "1997-08-03     2.964892\n",
       "...                 ...\n",
       "1997-12-07     2.720290\n",
       "1997-12-14     2.788952\n",
       "1997-12-21     2.409594\n",
       "1997-12-28     2.262755\n",
       "1998-01-04     2.505721\n",
       "1998-01-11     2.464516\n",
       "1998-01-18     2.639485\n",
       "1998-01-25     2.617450\n",
       "1998-02-01     2.632035\n",
       "1998-02-08     2.571429\n",
       "1998-02-15     2.600868\n",
       "1998-02-22     2.647948\n",
       "1998-03-01     2.695788\n",
       "1998-03-08     2.699700\n",
       "1998-03-15     2.756944\n",
       "1998-03-22     2.607872\n",
       "1998-03-29     2.564465\n",
       "1998-04-05     2.501099\n",
       "1998-04-12     2.525799\n",
       "1998-04-19     2.442348\n",
       "1998-04-26     2.634518\n",
       "1998-05-03     2.462451\n",
       "1998-05-10     2.767263\n",
       "1998-05-17     2.454945\n",
       "1998-05-24     2.265086\n",
       "1998-05-31     2.457330\n",
       "1998-06-07     2.627993\n",
       "1998-06-14     2.765766\n",
       "1998-06-21     2.495495\n",
       "1998-06-28     2.425197\n",
       "\n",
       "[77 rows x 1 columns]"
      ]
     },
     "execution_count": 32,
     "metadata": {},
     "output_type": "execute_result"
    }
   ],
   "source": [
    "df_cdnow_agg[\"basket_size\"].to_frame()"
   ]
  },
  {
   "cell_type": "code",
   "execution_count": null,
   "metadata": {},
   "outputs": [],
   "source": []
  },
  {
   "cell_type": "code",
   "execution_count": null,
   "metadata": {},
   "outputs": [],
   "source": []
  },
  {
   "cell_type": "code",
   "execution_count": 26,
   "metadata": {},
   "outputs": [
    {
     "data": {
      "text/plain": [
       "pandas.core.indexes.datetimes.DatetimeIndex"
      ]
     },
     "execution_count": 26,
     "metadata": {},
     "output_type": "execute_result"
    }
   ],
   "source": [
    "type(df_cdnow_agg.index)"
   ]
  },
  {
   "cell_type": "code",
   "execution_count": null,
   "metadata": {},
   "outputs": [],
   "source": [
    "def plot_transactions_ts(transactional_df, frequency=\"M\", aggregation=\"n_purchases\", reg=False, black_friday_dates=None, plot_black_friday=False, plot_normal_only=False, **kwargs):\n",
    "    \"\"\"\n",
    "    plota a evolucao das compras no tempo\n",
    "    black_friday_dates:: list of datetime.date\n",
    "    \"\"\"\n",
    "\n",
    "    if \"black_friday\" in transactional_df.columns:\n",
    "        if frequency != 'Y':\n",
    "            df = df.join(grouper[\"black_friday\"].max())\n",
    "            \n",
    "    \n",
    "    if plot_black_friday or plot_normal_only:\n",
    "        assert \"black_friday\" in df.columns, \"No Black Friday Information Available\"\n",
    "        \n",
    "        # n_purchases on normal days\n",
    "        df[f\"{aggregation}_normal\"] = df[aggregation]\n",
    "        df.loc[df[\"black_friday\"] == 1, f\"{aggregation}_normal\"] = np.nan\n",
    "        df[f\"{aggregation}_normal\"] = df[f\"{aggregation}_normal\"].interpolate(method=\"linear\")\n",
    "        \n",
    "        # por plotting reasons, considering \"neighbor\" rows as black_friday == 1\n",
    "        try:\n",
    "            bf_idx = [(i-1, i, i+1) for i in df.reset_index()[df.reset_index()[\"black_friday\"] == 1].index]\n",
    "            bf_idx = list(set(list(sum(bf_idx, ()))))\n",
    "            df.iloc[bf_idx, (df.columns == \"black_friday\").argmax()] = 1\n",
    "        except IndexError:\n",
    "            pass\n",
    "        \n",
    "        # n_purchases on black friday days\n",
    "        df[f\"{aggregation}_bf\"] = df[aggregation]\n",
    "        df.loc[df[\"black_friday\"] != 1, f\"{aggregation}_bf\"] = np.nan        \n",
    "    \n",
    "    # plot!\n",
    "    ax = kwargs.get(\"ax\")\n",
    "    if not ax:\n",
    "        fig, ax = plt.subplots(figsize=kwargs.get(\"figsize\", (18,4)))\n",
    "\n",
    "    if plot_black_friday:\n",
    "        (df[f'{aggregation}_normal']).rolling(kwargs.get(\"rolling_window\", 1)).mean().plot(ax=ax, label=kwargs.get(\"label_normal\", \"Normal\"))\n",
    "        (df[f'{aggregation}_bf']).rolling(kwargs.get(\"rolling_window\", 1)).mean().plot(ax=ax, label=kwargs.get(\"label_bf\", \"Black Friday\"))\n",
    "        \n",
    "        # simple linear regression - WARNING: simplistic treatment of timeseries data\n",
    "        if reg:\n",
    "            f = np.poly1d(np.polyfit(range(df.shape[0]), (df[f'{aggregation}_normal']).values, 1)) \n",
    "            df[\"fitted_line\"] = f(np.arange(df.shape[0]))\n",
    "            df[\"fitted_line\"].plot(ax=ax, lw=2, ls='--', alpha=.5, label=\"Eq_normal: \" + f\"{f}\".strip())\n",
    "        \n",
    "    elif plot_normal_only:\n",
    "        (df[f'{aggregation}_normal']).rolling(kwargs.get(\"rolling_window\", 1)).mean().plot(ax=ax, label=kwargs.get(\"label_normal\", \"Normal\"))\n",
    "        \n",
    "        # simple linear regression - WARNING: simplistic treatment of timeseries data\n",
    "        if reg:\n",
    "            f = np.poly1d(np.polyfit(range(df.shape[0]), (df[f'{aggregation}_normal']).values, 1)) \n",
    "            df[\"fitted_line\"] = f(np.arange(df.shape[0]))\n",
    "            df[\"fitted_line\"].plot(ax=ax, lw=2, ls='--', alpha=.5, label=\"Eq_normal: \" + f\"{f}\".strip())\n",
    "        \n",
    "    else:\n",
    "        (df[aggregation]).rolling(kwargs.get(\"rolling_window\", 1)).mean().plot(ax=ax, label=kwargs.get(\"label\"))\n",
    "        \n",
    "        # simple linear regression - WARNING: simplistic treatment of timeseries data\n",
    "        if reg:\n",
    "            f = np.poly1d(np.polyfit(range(df.shape[0]), (df[aggregation]).values, 1)) \n",
    "            df[\"fitted_line\"] = f(np.arange(df.shape[0]))\n",
    "            df[\"fitted_line\"].plot(ax=ax, lw=2, ls='--', alpha=.5, label=\"Eq_normal: \" + f\"{f}\".strip())\n",
    "\n",
    "    if kwargs.get(\"legend\", False):\n",
    "        ax.legend()\n",
    "\n",
    "    ax.set_title(kwargs.get(\"title\", f\"{aggregation.upper()} - {frequency}\"), size=kwargs.get(\"title_size\", 14))\n",
    "    \n",
    "    ax.set_xlabel(kwargs.get(\"xlabel\",\"\"))\n",
    "\n",
    "    return ax\n"
   ]
  }
 ],
 "metadata": {
  "kernelspec": {
   "display_name": "Python [pycrm-dev]",
   "language": "python",
   "name": "pycrm-dev"
  },
  "language_info": {
   "codemirror_mode": {
    "name": "ipython",
    "version": 3
   },
   "file_extension": ".py",
   "mimetype": "text/x-python",
   "name": "python",
   "nbconvert_exporter": "python",
   "pygments_lexer": "ipython3",
   "version": "3.7.1"
  }
 },
 "nbformat": 4,
 "nbformat_minor": 2
}
